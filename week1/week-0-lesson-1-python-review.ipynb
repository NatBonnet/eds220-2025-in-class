{
 "cells": [
  {
   "cell_type": "markdown",
   "id": "4d33deb3-81ec-4dfe-9651-5fbce50f7730",
   "metadata": {},
   "source": [
    "# Python review\n",
    "\n",
    "## goals:\n",
    "- recall basic python vocabulary\n",
    "- practice markdown\n",
    "\n",
    "**library**: a collection of code that we can use to perform specific tasks in our programs\n",
    "\n",
    "**NumPy**\n",
    "- core library for numerical computing in python\n",
    "- many other libraries use NumPu arrays as building bloacks\n",
    "- computations on NumPy are optimized for speed and memory usage\n",
    "\n",
    "import NumPy with **standard abbreviation**"
   ]
  },
  {
   "cell_type": "code",
   "execution_count": 2,
   "id": "d29db3bd-6dc9-4d22-9cd0-80a7420dec5b",
   "metadata": {
    "tags": []
   },
   "outputs": [],
   "source": [
    "import numpy as np"
   ]
  },
  {
   "cell_type": "markdown",
   "id": "67dd5c25-b2f3-43bc-a488-800f9914cce0",
   "metadata": {},
   "source": [
    "## Variables\n",
    "\n",
    "**variable** is a name we assign a particular object in Python\n",
    "example:\n"
   ]
  },
  {
   "cell_type": "code",
   "execution_count": 3,
   "id": "79a3a437-5f4d-4724-8f42-24ffa6edd8f8",
   "metadata": {
    "tags": []
   },
   "outputs": [],
   "source": [
    "# assign a small array to a variable a\n",
    "a = np.array( [ [1,1,2], [3,5,8] ] )"
   ]
  },
  {
   "cell_type": "code",
   "execution_count": 4,
   "id": "7c53b0ea-9888-426b-94b9-022b868fd45b",
   "metadata": {
    "tags": []
   },
   "outputs": [
    {
     "data": {
      "text/plain": [
       "array([[1, 1, 2],\n",
       "       [3, 5, 8]])"
      ]
     },
     "execution_count": 4,
     "metadata": {},
     "output_type": "execute_result"
    }
   ],
   "source": [
    "# run cell with the variable name to show value\n",
    "a"
   ]
  },
  {
   "cell_type": "code",
   "execution_count": 5,
   "id": "bc67c16c-50dd-4978-a84e-d5f944804f0e",
   "metadata": {
    "tags": []
   },
   "outputs": [
    {
     "name": "stdout",
     "output_type": "stream",
     "text": [
      "[[1 1 2]\n",
      " [3 5 8]]\n"
     ]
    }
   ],
   "source": [
    "# use `print()` to print the value\n",
    "print(a)"
   ]
  },
  {
   "cell_type": "markdown",
   "id": "0065e936-0063-416a-a140-b54b3710d7c1",
   "metadata": {},
   "source": [
    "## Objects\n",
    " **object** is a bundle of *properties* and *actions* about something specific\n",
    "example:\n",
    "object: data frame\n",
    "properties: number rows, names of th columns, date created\n",
    "\n",
    "actions: selecting a specific row, adding a new column\n",
    "\n",
    "A *variable* is the name we give a specific object, and the same object can be referenced by different variables\n",
    "\n",
    "In practice , we can use variable and object interchangeably most of the time "
   ]
  },
  {
   "cell_type": "code",
   "execution_count": null,
   "id": "79647c99-6ff3-4d01-bb15-a4cae3c55142",
   "metadata": {},
   "outputs": [],
   "source": []
  }
 ],
 "metadata": {
  "kernelspec": {
   "display_name": "EDS220",
   "language": "python",
   "name": "eds220-env"
  },
  "language_info": {
   "codemirror_mode": {
    "name": "ipython",
    "version": 3
   },
   "file_extension": ".py",
   "mimetype": "text/x-python",
   "name": "python",
   "nbconvert_exporter": "python",
   "pygments_lexer": "ipython3",
   "version": "3.11.4"
  }
 },
 "nbformat": 4,
 "nbformat_minor": 5
}
