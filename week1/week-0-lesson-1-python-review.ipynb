{
 "cells": [
  {
   "cell_type": "markdown",
   "id": "4d33deb3-81ec-4dfe-9651-5fbce50f7730",
   "metadata": {},
   "source": [
    "# Python review\n",
    "\n",
    "## goals:\n",
    "- recall basic python vocabulary\n",
    "- practice markdown\n",
    "\n",
    "**library**: a collection of code that we can use to perform specific tasks in our programs\n",
    "\n",
    "**NumPy**\n",
    "- core library for numerical computing in python\n",
    "- many other libraries use NumPu arrays as building bloacks\n",
    "- computations on NumPy are optimized for speed and memory usage\n",
    "\n",
    "import NumPy with **standard abbreviation**"
   ]
  },
  {
   "cell_type": "code",
   "execution_count": 1,
   "id": "d29db3bd-6dc9-4d22-9cd0-80a7420dec5b",
   "metadata": {
    "tags": []
   },
   "outputs": [],
   "source": [
    "import numpy as np"
   ]
  },
  {
   "cell_type": "markdown",
   "id": "67dd5c25-b2f3-43bc-a488-800f9914cce0",
   "metadata": {},
   "source": [
    "## Variables\n",
    "\n",
    "**variable** is a name we assign a particular object in Python\n",
    "example:\n"
   ]
  },
  {
   "cell_type": "code",
   "execution_count": 2,
   "id": "79a3a437-5f4d-4724-8f42-24ffa6edd8f8",
   "metadata": {
    "tags": []
   },
   "outputs": [],
   "source": [
    "# assign a small array to a variable a\n",
    "a = np.array( [ [1,1,2], [3,5,8] ] )"
   ]
  },
  {
   "cell_type": "code",
   "execution_count": 3,
   "id": "7c53b0ea-9888-426b-94b9-022b868fd45b",
   "metadata": {
    "tags": []
   },
   "outputs": [
    {
     "data": {
      "text/plain": [
       "array([[1, 1, 2],\n",
       "       [3, 5, 8]])"
      ]
     },
     "execution_count": 3,
     "metadata": {},
     "output_type": "execute_result"
    }
   ],
   "source": [
    "# run cell with the variable name to show value\n",
    "a"
   ]
  },
  {
   "cell_type": "code",
   "execution_count": 4,
   "id": "bc67c16c-50dd-4978-a84e-d5f944804f0e",
   "metadata": {
    "tags": []
   },
   "outputs": [
    {
     "name": "stdout",
     "output_type": "stream",
     "text": [
      "[[1 1 2]\n",
      " [3 5 8]]\n"
     ]
    }
   ],
   "source": [
    "# use `print()` to print the value\n",
    "print(a)"
   ]
  },
  {
   "cell_type": "markdown",
   "id": "0065e936-0063-416a-a140-b54b3710d7c1",
   "metadata": {},
   "source": [
    "## Objects\n",
    " **object** is a bundle of *properties* and *actions* about something specific\n",
    "example:\n",
    "object: data frame\n",
    "properties: number rows, names of th columns, date created\n",
    "\n",
    "actions: selecting a specific row, adding a new column\n",
    "\n",
    "A *variable* is the name we give a specific object, and the same object can be referenced by different variables\n",
    "\n",
    "In practice , we can use variable and object interchangeably most of the time \n",
    "\n",
    "## Types\n",
    "\n",
    "Every object in Python has a **type**, the type tells us what kinfd of object it is\n",
    "We can also call the type of an object, the **class** of an object ad they both mean what kind of object we have"
   ]
  },
  {
   "cell_type": "code",
   "execution_count": 5,
   "id": "79647c99-6ff3-4d01-bb15-a4cae3c55142",
   "metadata": {},
   "outputs": [
    {
     "name": "stdout",
     "output_type": "stream",
     "text": [
      "[[1 1 2]\n",
      " [3 5 8]]\n"
     ]
    },
    {
     "data": {
      "text/plain": [
       "numpy.ndarray"
      ]
     },
     "execution_count": 5,
     "metadata": {},
     "output_type": "execute_result"
    }
   ],
   "source": [
    "print(a)\n",
    "\n",
    "# Check the type/class of a variable/ object by using `type` function\n",
    "type(a)"
   ]
  },
  {
   "cell_type": "code",
   "execution_count": 8,
   "id": "25ece66a-7d73-4aa3-89a5-dd9a29269fb0",
   "metadata": {
    "tags": []
   },
   "outputs": [
    {
     "name": "stdout",
     "output_type": "stream",
     "text": [
      "1\n"
     ]
    },
    {
     "data": {
      "text/plain": [
       "numpy.int64"
      ]
     },
     "execution_count": 8,
     "metadata": {},
     "output_type": "execute_result"
    }
   ],
   "source": [
    "print(a[0, 0])\n",
    "\n",
    "# Check the ype on an entry on the array by indexing\n",
    "type(a[0,0]) # returns the entry in the first row in the first column"
   ]
  },
  {
   "cell_type": "markdown",
   "id": "2b1845c4-c61d-40c0-b21e-80ffe4b93e2f",
   "metadata": {},
   "source": [
    "Notice that `type(a[0,0])` is `numpy.int64` and not just the standard python integer type. This is telling us that 1 is an intefer stored as a 64-bit number. "
   ]
  },
  {
   "cell_type": "code",
   "execution_count": 10,
   "id": "8dfb4126-0d77-410d-be30-4c92b19f95d6",
   "metadata": {
    "tags": []
   },
   "outputs": [
    {
     "name": "stdout",
     "output_type": "stream",
     "text": [
      "5\n"
     ]
    }
   ],
   "source": [
    "# Access the 2nd row and 2nd column space\n",
    "a[1,1]"
   ]
  },
  {
   "cell_type": "markdown",
   "id": "e8520d49-a031-4cb0-afcc-1883db415d58",
   "metadata": {},
   "source": [
    "## Functions\n",
    "`print` was our first example of a python **function**\n",
    "functions take in a set of **arguments** and those arguments create an **output**\n",
    "argument = parameter\n",
    "we can ask information about a function by executing `?function`"
   ]
  },
  {
   "cell_type": "code",
   "execution_count": 11,
   "id": "8e4a182a-5f4c-4dca-9c2a-30ee3cad539e",
   "metadata": {
    "tags": []
   },
   "outputs": [
    {
     "data": {
      "text/plain": [
       "\u001b[0;31mSignature:\u001b[0m \u001b[0mprint\u001b[0m\u001b[0;34m(\u001b[0m\u001b[0;34m*\u001b[0m\u001b[0margs\u001b[0m\u001b[0;34m,\u001b[0m \u001b[0msep\u001b[0m\u001b[0;34m=\u001b[0m\u001b[0;34m' '\u001b[0m\u001b[0;34m,\u001b[0m \u001b[0mend\u001b[0m\u001b[0;34m=\u001b[0m\u001b[0;34m'\\n'\u001b[0m\u001b[0;34m,\u001b[0m \u001b[0mfile\u001b[0m\u001b[0;34m=\u001b[0m\u001b[0;32mNone\u001b[0m\u001b[0;34m,\u001b[0m \u001b[0mflush\u001b[0m\u001b[0;34m=\u001b[0m\u001b[0;32mFalse\u001b[0m\u001b[0;34m)\u001b[0m\u001b[0;34m\u001b[0m\u001b[0;34m\u001b[0m\u001b[0m\n",
       "\u001b[0;31mDocstring:\u001b[0m\n",
       "Prints the values to a stream, or to sys.stdout by default.\n",
       "\n",
       "sep\n",
       "  string inserted between values, default a space.\n",
       "end\n",
       "  string appended after the last value, default a newline.\n",
       "file\n",
       "  a file-like object (stream); defaults to the current sys.stdout.\n",
       "flush\n",
       "  whether to forcibly flush the stream.\n",
       "\u001b[0;31mType:\u001b[0m      builtin_function_or_method"
      ]
     },
     "metadata": {},
     "output_type": "display_data"
    }
   ],
   "source": [
    "?print"
   ]
  },
  {
   "cell_type": "markdown",
   "id": "60afabf4-8ac3-4273-8d69-deb96a59e030",
   "metadata": {},
   "source": [
    "This information is a **docstring**. \n",
    "\n",
    "A function has two types of arguments\n",
    "\n",
    "- **non-optional**: arguments you need to specify for the function to do something\n",
    "- **optional**: arguments that are pre-filled with a default argument, which you can override\n",
    "Optional arguments appear inside the parentheses in the form `optional_argument=default_value`"
   ]
  },
  {
   "cell_type": "code",
   "execution_count": 12,
   "id": "c3a296be-455f-433f-94eb-395640109fe2",
   "metadata": {
    "tags": []
   },
   "outputs": [
    {
     "name": "stdout",
     "output_type": "stream",
     "text": [
      "changing the default end argument\n"
     ]
    }
   ],
   "source": [
    "print('changing the default end argument')"
   ]
  },
  {
   "cell_type": "code",
   "execution_count": 13,
   "id": "23bcf235-aae9-4708-bd63-671351c5298e",
   "metadata": {
    "tags": []
   },
   "outputs": [
    {
     "name": "stdout",
     "output_type": "stream",
     "text": [
      "changing the default end argument :)"
     ]
    }
   ],
   "source": [
    "print('changing the default end argument', end=' :)')"
   ]
  },
  {
   "cell_type": "markdown",
   "id": "f7a829fe-674a-491d-931d-1e4fcadaac40",
   "metadata": {},
   "source": [
    "## Attributes and methods\n",
    "an object in python has both \n",
    "\n",
    "- **attributes**: a property of an object, some piece of information about it\n",
    "- **method**: a function that can act on the object"
   ]
  },
  {
   "cell_type": "markdown",
   "id": "876f7eb8-3278-4abf-9fcf-3aab4b0be3af",
   "metadata": {},
   "source": [
    "## Check in\n",
    "Fish attributes: length, color, species\n",
    "Fish methods: bite_lure(), swim(), die()\n",
    "\n",
    "**Examples** \n",
    "attributes for `numpy.arrays`"
   ]
  },
  {
   "cell_type": "code",
   "execution_count": 15,
   "id": "492ecc7e-7483-4e4d-a933-ffeb5e65e116",
   "metadata": {
    "tags": []
   },
   "outputs": [
    {
     "data": {
      "text/plain": [
       "(2, 3)"
      ]
     },
     "execution_count": 15,
     "metadata": {},
     "output_type": "execute_result"
    }
   ],
   "source": [
    "# look at how many rows and columns\n",
    "a.shape"
   ]
  },
  {
   "cell_type": "code",
   "execution_count": 16,
   "id": "0918e6ec-dad7-43d6-a4fb-0dada6c42d2f",
   "metadata": {
    "tags": []
   },
   "outputs": [
    {
     "data": {
      "text/plain": [
       "tuple"
      ]
     },
     "execution_count": 16,
     "metadata": {},
     "output_type": "execute_result"
    }
   ],
   "source": [
    "type(a.shape)"
   ]
  },
  {
   "cell_type": "code",
   "execution_count": 18,
   "id": "f3472738-8a1f-4718-ba85-20b714215bd4",
   "metadata": {
    "tags": []
   },
   "outputs": [
    {
     "data": {
      "text/plain": [
       "array([[1, 1, 2],\n",
       "       [3, 5, 8]])"
      ]
     },
     "execution_count": 18,
     "metadata": {},
     "output_type": "execute_result"
    }
   ],
   "source": [
    "a"
   ]
  },
  {
   "cell_type": "code",
   "execution_count": 17,
   "id": "aa10fc81-ffa5-48e2-810d-67a6f1b4cf9b",
   "metadata": {
    "tags": []
   },
   "outputs": [
    {
     "data": {
      "text/plain": [
       "array([1, 1, 2])"
      ]
     },
     "execution_count": 17,
     "metadata": {},
     "output_type": "execute_result"
    }
   ],
   "source": [
    "# Methods examples\n",
    "# min() returns the minimum value along the specified axis\n",
    "# find the min values along columns\n",
    "# axis is an optional parameter here- default just finds the single smallest value in the data\n",
    "a.min(axis=0)"
   ]
  },
  {
   "cell_type": "code",
   "execution_count": 19,
   "id": "1f6ed8ea-3993-45e0-83df-b33a9280a032",
   "metadata": {
    "tags": []
   },
   "outputs": [
    {
     "data": {
      "text/plain": [
       "1"
      ]
     },
     "execution_count": 19,
     "metadata": {},
     "output_type": "execute_result"
    }
   ],
   "source": [
    "a.min()"
   ]
  },
  {
   "cell_type": "markdown",
   "id": "ba9a4a5f-88b1-4bfc-85cb-93c4f05b0ade",
   "metadata": {},
   "source": [
    "remember: methods are functions associated with an object"
   ]
  },
  {
   "cell_type": "code",
   "execution_count": 20,
   "id": "caf33e07-a737-411f-8d6e-2ffa4f75a98f",
   "metadata": {
    "tags": []
   },
   "outputs": [
    {
     "data": {
      "text/plain": [
       "builtin_function_or_method"
      ]
     },
     "execution_count": 20,
     "metadata": {},
     "output_type": "execute_result"
    }
   ],
   "source": [
    "type(a.min)"
   ]
  },
  {
   "cell_type": "markdown",
   "id": "a1da1489-ccd8-4245-9ac0-7db2ff95675f",
   "metadata": {},
   "source": [
    "## Exercise \n",
    "1. read the `print` function help. What is the type of the argument `sep`? Is this an optional or non-optional agument? Why?\n",
    "\n",
    "2. create two new variables ine with the integer value 77 and another one with the string 99.\n",
    "\n",
    "3. Use your variables to print '77%99%77' by changing the value of one of th earguments in print"
   ]
  },
  {
   "cell_type": "code",
   "execution_count": 25,
   "id": "164df328-9d96-4033-8e85-f06b3d2e436e",
   "metadata": {
    "tags": []
   },
   "outputs": [
    {
     "name": "stdout",
     "output_type": "stream",
     "text": [
      "77%99%77\n",
      "77%99%77\n"
     ]
    },
    {
     "data": {
      "text/plain": [
       "\u001b[0;31mSignature:\u001b[0m \u001b[0mprint\u001b[0m\u001b[0;34m(\u001b[0m\u001b[0;34m*\u001b[0m\u001b[0margs\u001b[0m\u001b[0;34m,\u001b[0m \u001b[0msep\u001b[0m\u001b[0;34m=\u001b[0m\u001b[0;34m' '\u001b[0m\u001b[0;34m,\u001b[0m \u001b[0mend\u001b[0m\u001b[0;34m=\u001b[0m\u001b[0;34m'\\n'\u001b[0m\u001b[0;34m,\u001b[0m \u001b[0mfile\u001b[0m\u001b[0;34m=\u001b[0m\u001b[0;32mNone\u001b[0m\u001b[0;34m,\u001b[0m \u001b[0mflush\u001b[0m\u001b[0;34m=\u001b[0m\u001b[0;32mFalse\u001b[0m\u001b[0;34m)\u001b[0m\u001b[0;34m\u001b[0m\u001b[0;34m\u001b[0m\u001b[0m\n",
       "\u001b[0;31mDocstring:\u001b[0m\n",
       "Prints the values to a stream, or to sys.stdout by default.\n",
       "\n",
       "sep\n",
       "  string inserted between values, default a space.\n",
       "end\n",
       "  string appended after the last value, default a newline.\n",
       "file\n",
       "  a file-like object (stream); defaults to the current sys.stdout.\n",
       "flush\n",
       "  whether to forcibly flush the stream.\n",
       "\u001b[0;31mType:\u001b[0m      builtin_function_or_method"
      ]
     },
     "metadata": {},
     "output_type": "display_data"
    }
   ],
   "source": [
    "a = '77'\n",
    "b= '99'\n",
    "print(a, b, a, sep = '%')\n",
    "print('77', '99', '77', sep = '%')\n",
    "?print"
   ]
  },
  {
   "cell_type": "code",
   "execution_count": 27,
   "id": "279c3df1-f96b-4bb6-a11d-32e56ed33dad",
   "metadata": {
    "tags": []
   },
   "outputs": [
    {
     "data": {
      "text/plain": [
       "\u001b[0;31mSignature:\u001b[0m \u001b[0mprint\u001b[0m\u001b[0;34m(\u001b[0m\u001b[0;34m*\u001b[0m\u001b[0margs\u001b[0m\u001b[0;34m,\u001b[0m \u001b[0msep\u001b[0m\u001b[0;34m=\u001b[0m\u001b[0;34m' '\u001b[0m\u001b[0;34m,\u001b[0m \u001b[0mend\u001b[0m\u001b[0;34m=\u001b[0m\u001b[0;34m'\\n'\u001b[0m\u001b[0;34m,\u001b[0m \u001b[0mfile\u001b[0m\u001b[0;34m=\u001b[0m\u001b[0;32mNone\u001b[0m\u001b[0;34m,\u001b[0m \u001b[0mflush\u001b[0m\u001b[0;34m=\u001b[0m\u001b[0;32mFalse\u001b[0m\u001b[0;34m)\u001b[0m\u001b[0;34m\u001b[0m\u001b[0;34m\u001b[0m\u001b[0m\n",
       "\u001b[0;31mDocstring:\u001b[0m\n",
       "Prints the values to a stream, or to sys.stdout by default.\n",
       "\n",
       "sep\n",
       "  string inserted between values, default a space.\n",
       "end\n",
       "  string appended after the last value, default a newline.\n",
       "file\n",
       "  a file-like object (stream); defaults to the current sys.stdout.\n",
       "flush\n",
       "  whether to forcibly flush the stream.\n",
       "\u001b[0;31mType:\u001b[0m      builtin_function_or_method"
      ]
     },
     "metadata": {},
     "output_type": "display_data"
    }
   ],
   "source": [
    "type()\n",
    "# sep is an optional string argument"
   ]
  },
  {
   "cell_type": "code",
   "execution_count": null,
   "id": "e5f146f8-fbb4-4eb0-8ae9-fdfc3b0cff9f",
   "metadata": {},
   "outputs": [],
   "source": []
  }
 ],
 "metadata": {
  "kernelspec": {
   "display_name": "EDS220",
   "language": "python",
   "name": "eds220-env"
  },
  "language_info": {
   "codemirror_mode": {
    "name": "ipython",
    "version": 3
   },
   "file_extension": ".py",
   "mimetype": "text/x-python",
   "name": "python",
   "nbconvert_exporter": "python",
   "pygments_lexer": "ipython3",
   "version": "3.11.4"
  }
 },
 "nbformat": 4,
 "nbformat_minor": 5
}
