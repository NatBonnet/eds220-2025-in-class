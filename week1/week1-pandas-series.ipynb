{
 "cells": [
  {
   "cell_type": "markdown",
   "id": "51cb0868-febe-4af5-9e63-13e88a30eed6",
   "metadata": {},
   "source": [
    "# Notes from chapter readings"
   ]
  },
  {
   "cell_type": "markdown",
   "id": "01796ab7-a426-4d2e-be6e-1b91686ad64a",
   "metadata": {},
   "source": [
    "[series and data frames](https://meds-eds-220.github.io/MEDS-eds-220-course/book/chapters/lesson-2-series-dataframes.html)\n",
    "\n",
    "- pandas is built ontop of numpy and exists to wrangle and analyze tabular data\n",
    "\n",
    "- conventional to import as pd [conventions](- conventional to import as pd ([conventions]())\n",
    ")\n",
    "\n",
    "## Series: 1-D array of indexed data\n",
    "- indexing differentiates between pandas.Series and a NumPy array \n",
    "- arrays are still indexable but this is not built into the data structure\n",
    "\n",
    "creating a series\n",
    "`pd.Series(data, index=index`\n",
    "where 'data' can be a list or NumPy array, a dictionary, or a single number, boolean argument, or a string\n",
    "\n",
    "example from a list: `pd.Series(['EDS 220', 'EDS 222', 'EDS 223'])`\n",
    "\n",
    "example from a dictionary: create a dictionary using `{'key_0':2, 'key_1':3, 'key_2':4`, then create a series with `pd.Series(d)`\n",
    "\n",
    "- you can create a series from a single value, which will be repeatedto match the length of the index\n",
    "ex: `pd.Series(3.0, index = ['A', 'B', 'C'])` \n",
    "\n",
    "- most NumPy options will work on a series, and you can pass boolean arguments on them as well \n",
    "\n",
    "### Identifying missing values\n",
    "- a missing, NULL, or NA value can be represented with the float value `numpy.nan`, if you were inputting these in your series it would look like: `s = pd.Series([1, 2, np.nan, 4, np.nan])` \n",
    "\n",
    "- you can check for missing values with `s.hasnans`- which returns a boolean answer\n",
    "\n",
    "- alternatively there is `s.isna()`, which indexes through the series and returns a boolean answer for each value"
   ]
  },
  {
   "cell_type": "code",
   "execution_count": 14,
   "id": "6b3948bb-3122-4c45-a6f9-07ebc3e5240a",
   "metadata": {
    "tags": []
   },
   "outputs": [
    {
     "data": {
      "text/plain": [
       "A    1.0\n",
       "B    2.0\n",
       "C    NaN\n",
       "D    NaN\n",
       "dtype: float64"
      ]
     },
     "execution_count": 14,
     "metadata": {},
     "output_type": "execute_result"
    }
   ],
   "source": [
    "## Check in\n",
    "# create a pandas.series named s with four integer values, two of which are -999, indexing by A-D\n",
    "import pandas as pd\n",
    "import numpy as np\n",
    "s = pd.Series([1, 2, -999, -999], index=['A', 'B', 'C', 'D'])\n",
    "s\n",
    "\n",
    "#use `mask()` to update the series so that -999 values are replaced by NAs\n",
    "\n",
    "s.where(s < 0)\n",
    "s.mask(s <0 )"
   ]
  },
  {
   "cell_type": "markdown",
   "id": "589ccc2a-70b6-435f-9e27-dade109145ac",
   "metadata": {},
   "source": [
    "## Data Frames\n",
    "- pandas.DataFrame is the most used pandas object because it indexes through multiple pandas.Series (as columns) using the same index\n",
    "\n",
    "initializing a dataframe\n",
    "- can be made from a dictionary with the column's data\n",
    "`d = {'col_name_1' : pd.Series(np.arange(3)),\n",
    "     'col_name_2' : pd.Series([3.1, 3.2, 3.3]),\n",
    "     }`\n",
    "     create a dataframe `df = pd.DataFrame(d)`\n",
    "- change the index with `df.index = ['A', 'B', 'C']`\n"
   ]
  },
  {
   "cell_type": "code",
   "execution_count": 25,
   "id": "5f14f76c-814a-4f62-be03-ba2d80495385",
   "metadata": {
    "tags": []
   },
   "outputs": [
    {
     "data": {
      "text/plain": [
       "Index(['C1', 'C2'], dtype='object')"
      ]
     },
     "execution_count": 25,
     "metadata": {},
     "output_type": "execute_result"
    }
   ],
   "source": [
    "## Check in\n",
    "# Initialize dictionary with columns' data \n",
    "d = {'col_name_1' : pd.Series(np.arange(3)),\n",
    "     'col_name_2' : pd.Series([3.1, 3.2, 3.3]),\n",
    "     }\n",
    "\n",
    "# Create data frame\n",
    "df = pd.DataFrame(d)\n",
    "df\n",
    "\n",
    "# Change index\n",
    "df.index = ['a','b','c']\n",
    "df\n",
    "\n",
    "# Update column names to C1 and C2 \n",
    "df.columns = (['C1', 'C2'])\n",
    "df.columns"
   ]
  },
  {
   "cell_type": "markdown",
   "id": "83d6b1f4-3d77-4d9c-bf6f-56e3a1471c7a",
   "metadata": {},
   "source": [
    "## Commenting\n",
    "\n",
    "[commenting](https://meds-eds-220.github.io/MEDS-eds-220-course/book/appendices/comments-guidelines.html)\n",
    "\n",
    "- comments start with a # followed by a single space, then text\n",
    "- comments should start with a capital letter\n",
    "- be consistent with punctuation\n",
    "\n",
    "comments should represent the current code associated with it\n",
    "- keep them short and clear, and if you need a longer explanation use markdown cells\n",
    "- keep it professional\n",
    "\n",
    "### Special types of comments\n",
    "\n",
    "In-line comments: on the same line as the code, keep them short and use sparingly\n",
    "\n",
    "Block comments: multiple comments in seperate lines- keep spacing consistent, align them\n",
    "\n",
    "- explain why not what as you progress\n",
    "- redundancy clutters code\n",
    "- don't use code to try and make overcomplicated code readble- just simplify your code"
   ]
  },
  {
   "cell_type": "markdown",
   "id": "8eff5e50-7ff7-4668-8ca7-16dfa5e84532",
   "metadata": {},
   "source": [
    "# Overall Takeaways from week 0 readings\n",
    "\n",
    "pandas\n",
    "- pandas series and dataframes are very useful tools that can help index through data\n",
    "- most NumPy operations are applicable to pandas objects\n",
    "- there are often multiple ways to achieve a result with a pandas or NumPy function\n",
    "\n",
    "commenting\n",
    "- keep comments consistent in presentation, consise, and up to date\n",
    "- if you need to explain a lot of things about your code consider if it is as efficient as it could be, or consider adding a markdown cell\n",
    "- your commenting will become more streamlined with coding practice\n"
   ]
  },
  {
   "cell_type": "code",
   "execution_count": null,
   "id": "b8aa339e-ec18-496e-8d85-5af7f211e64c",
   "metadata": {},
   "outputs": [],
   "source": []
  }
 ],
 "metadata": {
  "kernelspec": {
   "display_name": "EDS220",
   "language": "python",
   "name": "eds220-env"
  },
  "language_info": {
   "codemirror_mode": {
    "name": "ipython",
    "version": 3
   },
   "file_extension": ".py",
   "mimetype": "text/x-python",
   "name": "python",
   "nbconvert_exporter": "python",
   "pygments_lexer": "ipython3",
   "version": "3.11.4"
  }
 },
 "nbformat": 4,
 "nbformat_minor": 5
}
