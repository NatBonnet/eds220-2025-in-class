{
 "cells": [
  {
   "cell_type": "code",
   "execution_count": null,
   "id": "042eaef5",
   "metadata": {},
   "outputs": [],
   "source": [
    "import os\n",
    "\n",
    "import pandas as pd\n",
    "from pandas.api.types import is_string_dtype, is_numeric_dtype\n",
    "import geopandas as gpd\n",
    "import matplotlib.pyplot as plt\n",
    "\n",
    "\n",
    "# Display all columns when looking at dataframes\n",
    "pd.set_option(\"display.max.columns\", None)"
   ]
  },
  {
   "cell_type": "code",
   "execution_count": null,
   "id": "988cb993",
   "metadata": {},
   "outputs": [],
   "source": [
    "# Import power plants data\n",
    "URL = 'https://raw.githubusercontent.com/carmengg/eds-220-book/refs/heads/main/data/power_plants_epsg4269.csv'\n",
    "power_plants = pd.read_csv(URL)\n",
    "power_plants.head()"
   ]
  },
  {
   "cell_type": "code",
   "execution_count": null,
   "id": "148a75e1",
   "metadata": {},
   "outputs": [],
   "source": [
    "# Import states data\n",
    "fp = os.path.join(\"week5/data/tl_2022_us_state/tl_2022_us_state.shp\")\n",
    "states = gpd.read_file(fp)\n",
    "states.head()"
   ]
  }
 ],
 "metadata": {
  "kernelspec": {
   "display_name": "EDS-220 env",
   "language": "python",
   "name": "eds220-env"
  },
  "language_info": {
   "name": "python",
   "version": "3.11.4"
  }
 },
 "nbformat": 4,
 "nbformat_minor": 5
}
