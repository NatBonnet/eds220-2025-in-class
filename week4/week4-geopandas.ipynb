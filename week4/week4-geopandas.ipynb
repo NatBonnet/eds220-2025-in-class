{
 "cells": [
  {
   "cell_type": "markdown",
   "id": "0b9cc29d",
   "metadata": {},
   "source": [
    "## `geopandas`\n",
    "python library that extends pandas to geospatial data.\n",
    "## reproducible file paths\n"
   ]
  },
  {
   "cell_type": "code",
   "execution_count": 1,
   "id": "17022bd3",
   "metadata": {},
   "outputs": [],
   "source": [
    "import os \n",
    "import geopandas as gpd\n",
    "import matplotlib.pyplot as plt\n"
   ]
  },
  {
   "cell_type": "markdown",
   "id": "8db2c4f2",
   "metadata": {},
   "source": [
    "TO import data we first use `os` package to create a reproducible file path:"
   ]
  },
  {
   "cell_type": "code",
   "execution_count": 2,
   "id": "a21f5949",
   "metadata": {},
   "outputs": [
    {
     "data": {
      "text/plain": [
       "'data\\\\gbif_sus_scrofa_california\\\\gbif_sus_scrofa_california\\\\gbif_sus_scrofa_california.shp'"
      ]
     },
     "execution_count": 2,
     "metadata": {},
     "output_type": "execute_result"
    }
   ],
   "source": [
    "fp = os.path.join(\"data\\gbif_sus_scrofa_california\\gbif_sus_scrofa_california\\gbif_sus_scrofa_california.shp\")\n",
    "fp"
   ]
  },
  {
   "cell_type": "code",
   "execution_count": 3,
   "id": "2950f457",
   "metadata": {},
   "outputs": [],
   "source": [
    "pigs = gpd.read_file(fp)"
   ]
  },
  {
   "cell_type": "code",
   "execution_count": 4,
   "id": "09c2cb5f",
   "metadata": {},
   "outputs": [
    {
     "data": {
      "text/html": [
       "<div>\n",
       "<style scoped>\n",
       "    .dataframe tbody tr th:only-of-type {\n",
       "        vertical-align: middle;\n",
       "    }\n",
       "\n",
       "    .dataframe tbody tr th {\n",
       "        vertical-align: top;\n",
       "    }\n",
       "\n",
       "    .dataframe thead th {\n",
       "        text-align: right;\n",
       "    }\n",
       "</style>\n",
       "<table border=\"1\" class=\"dataframe\">\n",
       "  <thead>\n",
       "    <tr style=\"text-align: right;\">\n",
       "      <th></th>\n",
       "      <th>REGION</th>\n",
       "      <th>DIVISION</th>\n",
       "      <th>STATEFP</th>\n",
       "      <th>STATENS</th>\n",
       "      <th>GEOID</th>\n",
       "      <th>STUSPS</th>\n",
       "      <th>NAME</th>\n",
       "      <th>LSAD</th>\n",
       "      <th>MTFCC</th>\n",
       "      <th>FUNCSTAT</th>\n",
       "      <th>ALAND</th>\n",
       "      <th>AWATER</th>\n",
       "      <th>INTPTLAT</th>\n",
       "      <th>INTPTLON</th>\n",
       "      <th>geometry</th>\n",
       "    </tr>\n",
       "  </thead>\n",
       "  <tbody>\n",
       "    <tr>\n",
       "      <th>0</th>\n",
       "      <td>4</td>\n",
       "      <td>9</td>\n",
       "      <td>06</td>\n",
       "      <td>01779778</td>\n",
       "      <td>06</td>\n",
       "      <td>CA</td>\n",
       "      <td>California</td>\n",
       "      <td>00</td>\n",
       "      <td>G4000</td>\n",
       "      <td>A</td>\n",
       "      <td>403501101370</td>\n",
       "      <td>20466718403</td>\n",
       "      <td>+37.1551773</td>\n",
       "      <td>-119.5434183</td>\n",
       "      <td>MULTIPOLYGON (((-119.63473 33.26545, -119.6363...</td>\n",
       "    </tr>\n",
       "  </tbody>\n",
       "</table>\n",
       "</div>"
      ],
      "text/plain": [
       "  REGION DIVISION STATEFP   STATENS GEOID STUSPS        NAME LSAD  MTFCC  \\\n",
       "0      4        9      06  01779778    06     CA  California   00  G4000   \n",
       "\n",
       "  FUNCSTAT         ALAND       AWATER     INTPTLAT      INTPTLON  \\\n",
       "0        A  403501101370  20466718403  +37.1551773  -119.5434183   \n",
       "\n",
       "                                            geometry  \n",
       "0  MULTIPOLYGON (((-119.63473 33.26545, -119.6363...  "
      ]
     },
     "execution_count": 4,
     "metadata": {},
     "output_type": "execute_result"
    }
   ],
   "source": [
    "fp = os.path.join(\"data\\ca_state_boundary\\ca_state_boundary\\ca_state_boundary.shp\")\n",
    "ca_boundary = gpd.read_file(fp)\n",
    "ca_boundary"
   ]
  },
  {
   "cell_type": "markdown",
   "id": "7f0482ba",
   "metadata": {},
   "source": [
    "## `GeoSeries` and `GeoDataFrame\n",
    "`geopandas.GeoDataFrame` = core structure in geopandas = `pandas.DataFrame` plus a dedicated geometry column hat can perform spatial operations\n",
    "\n",
    "**geometry column** holds the geometry (point, polygons, etc) of each spatial feature, the type is `geopandas.GeoSeries`"
   ]
  },
  {
   "cell_type": "code",
   "execution_count": 5,
   "id": "f5b90ac1",
   "metadata": {},
   "outputs": [
    {
     "name": "stdout",
     "output_type": "stream",
     "text": [
      "<class 'geopandas.geodataframe.GeoDataFrame'>\n",
      "<class 'geopandas.geoseries.GeoSeries'>\n",
      "<class 'pandas.core.series.Series'>\n"
     ]
    }
   ],
   "source": [
    "# Check the data type of the pigs dataframe\n",
    "print(type(pigs))\n",
    "\n",
    "# Check datatype of geometry column\n",
    "print(type(pigs.geometry))\n",
    "\n",
    "# Check data type of gbifID\n",
    "print(type(pigs.gbifID))"
   ]
  },
  {
   "cell_type": "code",
   "execution_count": 6,
   "id": "fc14d65a",
   "metadata": {},
   "outputs": [
    {
     "data": {
      "text/plain": [
       "gbifID           int64\n",
       "species         object\n",
       "state           object\n",
       "individual     float64\n",
       "day            float64\n",
       "month          float64\n",
       "year           float64\n",
       "inst            object\n",
       "collection      object\n",
       "catalogNum      object\n",
       "identified      object\n",
       "geometry      geometry\n",
       "dtype: object"
      ]
     },
     "execution_count": 6,
     "metadata": {},
     "output_type": "execute_result"
    }
   ],
   "source": [
    "# Check the data type of each column\n",
    "pigs.dtypes"
   ]
  },
  {
   "cell_type": "code",
   "execution_count": 7,
   "id": "d6993e25",
   "metadata": {},
   "outputs": [
    {
     "data": {
      "text/plain": [
       "0       Point\n",
       "1       Point\n",
       "2       Point\n",
       "3       Point\n",
       "4       Point\n",
       "        ...  \n",
       "1041    Point\n",
       "1042    Point\n",
       "1043    Point\n",
       "1044    Point\n",
       "1045    Point\n",
       "Length: 1046, dtype: object"
      ]
     },
     "execution_count": 7,
     "metadata": {},
     "output_type": "execute_result"
    }
   ],
   "source": [
    "# Check type of each element in the geometry column\n",
    "pigs.geom_type"
   ]
  },
  {
   "cell_type": "markdown",
   "id": "f46f5110",
   "metadata": {},
   "source": [
    "What is the geometry type of the single deatrure in the CA state boundary?\n"
   ]
  },
  {
   "cell_type": "code",
   "execution_count": 8,
   "id": "9b012f62",
   "metadata": {},
   "outputs": [
    {
     "data": {
      "text/plain": [
       "0    MultiPolygon\n",
       "dtype: object"
      ]
     },
     "execution_count": 8,
     "metadata": {},
     "output_type": "execute_result"
    }
   ],
   "source": [
    "ca_boundary.geom_type"
   ]
  },
  {
   "cell_type": "markdown",
   "id": "95a4babe",
   "metadata": {},
   "source": [
    "## CRS\n",
    "**coordinate reference system (CRS)**= instructuons to locate each spatial feature"
   ]
  },
  {
   "cell_type": "code",
   "execution_count": 9,
   "id": "a9d9289f",
   "metadata": {},
   "outputs": [
    {
     "data": {
      "text/plain": [
       "<Geographic 2D CRS: EPSG:4326>\n",
       "Name: WGS 84\n",
       "Axis Info [ellipsoidal]:\n",
       "- Lat[north]: Geodetic latitude (degree)\n",
       "- Lon[east]: Geodetic longitude (degree)\n",
       "Area of Use:\n",
       "- name: World.\n",
       "- bounds: (-180.0, -90.0, 180.0, 90.0)\n",
       "Datum: World Geodetic System 1984 ensemble\n",
       "- Ellipsoid: WGS 84\n",
       "- Prime Meridian: Greenwich"
      ]
     },
     "execution_count": 9,
     "metadata": {},
     "output_type": "execute_result"
    }
   ],
   "source": [
    "pigs.crs"
   ]
  },
  {
   "cell_type": "code",
   "execution_count": 10,
   "id": "7fdf2bf7",
   "metadata": {},
   "outputs": [
    {
     "name": "stdout",
     "output_type": "stream",
     "text": [
      "Ellipsoid: WGS 84\n",
      "Datum: World Geodetic System 1984 ensemble\n",
      "Is geographic: True\n",
      "Is projected: False\n"
     ]
    }
   ],
   "source": [
    "# Examine CRS details\n",
    "print(\"Ellipsoid:\", pigs.crs.ellipsoid)\n",
    "print(\"Datum:\", pigs.crs.datum)\n",
    "print(\"Is geographic:\", pigs.crs.is_geographic)\n",
    "print(\"Is projected:\", pigs.crs.is_projected)"
   ]
  },
  {
   "cell_type": "code",
   "execution_count": 11,
   "id": "8106f3d7",
   "metadata": {},
   "outputs": [
    {
     "data": {
      "text/plain": [
       "array([-124.29448 ,   32.593433, -115.4356  ,   40.934296])"
      ]
     },
     "execution_count": 11,
     "metadata": {},
     "output_type": "execute_result"
    }
   ],
   "source": [
    "# Obtain the geographic extent of the geo-dataframe (gives xmin, ymin, xmax, ymax)\n",
    "pigs.total_bounds"
   ]
  },
  {
   "cell_type": "code",
   "execution_count": 12,
   "id": "a6b9eef3",
   "metadata": {},
   "outputs": [
    {
     "name": "stdout",
     "output_type": "stream",
     "text": [
      "CRS: EPSG:4326 \n",
      "\n",
      "[-124.48201686   32.52883674 -114.13122248   42.00950827]\n"
     ]
    }
   ],
   "source": [
    "# Examine CRS and extent of California boundary\n",
    "print(\"CRS:\", ca_boundary.crs, '\\n')\n",
    "print(ca_boundary.total_bounds)"
   ]
  },
  {
   "cell_type": "code",
   "execution_count": 13,
   "id": "e0043270",
   "metadata": {},
   "outputs": [
    {
     "data": {
      "text/plain": [
       "True"
      ]
     },
     "execution_count": 13,
     "metadata": {},
     "output_type": "execute_result"
    }
   ],
   "source": [
    "# Check that the CRSs match\n",
    "pigs.crs == ca_boundary.crs"
   ]
  },
  {
   "cell_type": "markdown",
   "id": "7f7531e2",
   "metadata": {},
   "source": [
    "## Data wrangling\n",
    "use `pandas` data wrangling to wrangle `pandas.GeoDataFrames`"
   ]
  },
  {
   "cell_type": "code",
   "execution_count": 14,
   "id": "c16c1e64",
   "metadata": {},
   "outputs": [
    {
     "data": {
      "text/plain": [
       "year\n",
       "1818.0     31\n",
       "1910.0      1\n",
       "1925.0      1\n",
       "1927.0      4\n",
       "1929.0      3\n",
       "         ... \n",
       "2019.0    101\n",
       "2020.0    159\n",
       "2021.0    164\n",
       "2022.0    185\n",
       "2023.0     98\n",
       "Name: count, Length: 61, dtype: int64"
      ]
     },
     "execution_count": 14,
     "metadata": {},
     "output_type": "execute_result"
    }
   ],
   "source": [
    "# Examine pig observations by year\n",
    "pigs[\"year\"].value_counts().sort_index()"
   ]
  },
  {
   "cell_type": "code",
   "execution_count": 15,
   "id": "f9d4b641",
   "metadata": {},
   "outputs": [
    {
     "name": "stdout",
     "output_type": "stream",
     "text": [
      "Total number of observations 1046\n",
      "Number of observations since 2020 606\n"
     ]
    }
   ],
   "source": [
    "# Select data from 2020 onrwards\n",
    "pigs_recent = pigs[pigs[\"year\"]>=2020]\n",
    "\n",
    "#Check the length of og dataframe\n",
    "print(\"Total number of observations\", len(pigs))\n",
    "\n",
    "# Check length of new dataframe\n",
    "print(\"Number of observations since 2020\", len(pigs_recent))"
   ]
  },
  {
   "cell_type": "markdown",
   "id": "c3a44556",
   "metadata": {},
   "source": [
    "# Create a map (preliminary)\n",
    "`gpd.GeoDataFrame` has a `plot` method that quickly creates a map for our daa using the geospatial info\n"
   ]
  },
  {
   "cell_type": "code",
   "execution_count": 16,
   "id": "e5300e0c",
   "metadata": {},
   "outputs": [
    {
     "data": {
      "text/plain": [
       "<Axes: >"
      ]
     },
     "execution_count": 16,
     "metadata": {},
     "output_type": "execute_result"
    },
    {
     "data": {
      "image/png": "[encoded data removed]",
      "text/plain": [
       "<Figure size 640x480 with 1 Axes>"
      ]
     },
     "metadata": {},
     "output_type": "display_data"
    }
   ],
   "source": [
    "pigs_recent.plot()"
   ]
  },
  {
   "cell_type": "markdown",
   "id": "53431746",
   "metadata": {},
   "source": [
    "## `matplotlib` \n",
    "We can interact with `matplotlib` via `pyplot` as an interface\n",
    "\n",
    "Matplotlib graphs data in a figure "
   ]
  },
  {
   "cell_type": "code",
   "execution_count": 20,
   "id": "633707c3",
   "metadata": {},
   "outputs": [
    {
     "data": {
      "image/png": "[encoded data removed]",
      "text/plain": [
       "<Figure size 640x480 with 1 Axes>"
      ]
     },
     "metadata": {},
     "output_type": "display_data"
    }
   ],
   "source": [
    "# Initialize empty figure (fig) and axis (ax)\n",
    "fig, ax= plt.subplots()"
   ]
  },
  {
   "cell_type": "markdown",
   "id": "fba52092",
   "metadata": {},
   "source": [
    "## Adding a layer\n",
    "\n",
    "When using matplotlib, it can be useful to think of creating a plot as adding layers of an axis\n",
    "\n",
    "Ex: the first layer we want to add to our axis in the `pigs_recent` point data\n"
   ]
  },
  {
   "cell_type": "code",
   "execution_count": 24,
   "id": "b0627e5e",
   "metadata": {},
   "outputs": [
    {
     "data": {
      "image/png": "[encoded data removed]",
      "text/plain": [
       "<Figure size 640x480 with 1 Axes>"
      ]
     },
     "metadata": {},
     "output_type": "display_data"
    }
   ],
   "source": [
    "# Initialize empty figure and axis \n",
    "fig, ax = plt.subplots()\n",
    "\n",
    "# Add pigs point plot\n",
    "pigs_recent.plot(ax=ax, # Add plot to axis\n",
    "                 alpha = 0.5, \n",
    "                 color = \"brown\" # Update color, \n",
    "                 )\n",
    "\n",
    "# Update axis\n",
    "ax.set_title(\"Reported Sus Scrofa sightings in CA (2020-2023)\")\n",
    "ax.set_xlabel(\"Longitude\")\n",
    "ax.set_ylabel(\"Latitude\")\n",
    "plt.show()"
   ]
  },
  {
   "cell_type": "markdown",
   "id": "074c4e26",
   "metadata": {},
   "source": [
    "## Customization\n",
    "\n",
    "Some can be done directly in plot() method for the dataframe, some others is done updating the attributes of axis `ax`"
   ]
  }
 ],
 "metadata": {
  "kernelspec": {
   "display_name": "EDS-220 env",
   "language": "python",
   "name": "eds220-env"
  },
  "language_info": {
   "codemirror_mode": {
    "name": "ipython",
    "version": 3
   },
   "file_extension": ".py",
   "mimetype": "text/x-python",
   "name": "python",
   "nbconvert_exporter": "python",
   "pygments_lexer": "ipython3",
   "version": "3.11.4"
  }
 },
 "nbformat": 4,
 "nbformat_minor": 5
}
